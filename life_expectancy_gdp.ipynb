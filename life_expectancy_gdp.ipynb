{
 "cells": [
  {
   "cell_type": "markdown",
   "metadata": {},
   "source": [
    "\n",
    "Hello and welcome to this porfolio project (Life Expectancy and GDP)\n",
    "\n",
    "This project is part of the Data Science: Machine Learning specialist career path  provided by Codecademy\n",
    "\n",
    "I would like to thank anyone who dedicated time to review this project \n",
    "\n",
    "-----------------------------------------------------------------------------------------------------------------\n"
   ]
  },
  {
   "cell_type": "markdown",
   "metadata": {},
   "source": [
    "The premise of the project is to explore the relationship between Life expectancy and GDP.\n",
    "\n",
    "            Life expectancy being the average number of years a person is expected to live typically \"calculated\" at birth\n",
    "            \n",
    "            GDP short for the Gross Domestic Product being the total market value of all final goods and services produced                                     within a country's borders in a given year.\n",
    "            \n",
    "            Note: GPD in this case is in US dollars\n",
    "            \n",
    "The dataset contains 16 measured values for life expectancy and GDP for 16 years ranging from 2000 untill 2015.\n",
    "\n",
    "The data are provided for six countries : Chile, China, Germany, Mexico, The United States, Zimbabwe .\n",
    "\n",
    "\n",
    "-----------------------------"
   ]
  },
  {
   "cell_type": "markdown",
   "metadata": {},
   "source": [
    "I would like to tackle three main goals and hopefully provided an asnwer for them.\n",
    "\n",
    "        1. What is the relationship between Life expectancy and GDP ?\n",
    "        2. How did Life expectancy and GDP progress over time ?\n",
    "        3. How does the Average life expectancy span across the countries ?\n",
    "        \n",
    "-----------------------"
   ]
  },
  {
   "cell_type": "code",
   "execution_count": 1,
   "metadata": {},
   "outputs": [],
   "source": [
    "# Import relevant libraries\n",
    "\n",
    "import pandas as pd\n",
    "import numpy as np\n",
    "import matplotlib.pyplot as plt\n",
    "import seaborn as sns\n",
    "import scipy"
   ]
  },
  {
   "cell_type": "code",
   "execution_count": 2,
   "metadata": {},
   "outputs": [],
   "source": [
    "# Load the dataset into a dataframe \n",
    "\n",
    "Life_e =  pd.read_csv('all_data.csv')"
   ]
  },
  {
   "cell_type": "code",
   "execution_count": 3,
   "metadata": {},
   "outputs": [
    {
     "name": "stdout",
     "output_type": "stream",
     "text": [
      "  Country  Year  Life expectancy at birth (years)           GDP\n",
      "0   Chile  2000                              77.3  7.786093e+10\n",
      "1   Chile  2001                              77.3  7.097992e+10\n",
      "2   Chile  2002                              77.8  6.973681e+10\n",
      "3   Chile  2003                              77.9  7.564346e+10\n",
      "4   Chile  2004                              78.0  9.921039e+10\n"
     ]
    }
   ],
   "source": [
    "# Inspect some rows\n",
    "\n",
    "print(Life_e.head())"
   ]
  },
  {
   "cell_type": "code",
   "execution_count": 4,
   "metadata": {},
   "outputs": [],
   "source": [
    "# Adjusting life expectancy column name\n",
    "\n",
    "Life_e.rename(columns = {'Life expectancy at birth (years)':'Life_expectancy'},inplace = True)"
   ]
  },
  {
   "cell_type": "code",
   "execution_count": 5,
   "metadata": {},
   "outputs": [
    {
     "data": {
      "text/plain": [
       "Country             object\n",
       "Year                 int64\n",
       "Life_expectancy    float64\n",
       "GDP                float64\n",
       "dtype: object"
      ]
     },
     "execution_count": 5,
     "metadata": {},
     "output_type": "execute_result"
    }
   ],
   "source": [
    "# Making sure that the data types are in line with what is expected \n",
    "\n",
    "Life_e.dtypes"
   ]
  },
  {
   "cell_type": "code",
   "execution_count": 18,
   "metadata": {},
   "outputs": [
    {
     "data": {
      "text/plain": [
       "Country            string[python]\n",
       "Year                        int64\n",
       "Life_expectancy           float64\n",
       "GDP                       float64\n",
       "GDP_f                      object\n",
       "dtype: object"
      ]
     },
     "execution_count": 18,
     "metadata": {},
     "output_type": "execute_result"
    }
   ],
   "source": [
    "# Converting Country into string data type\n",
    "\n",
    "Life_e.Country = Life_e.Country.astype('string')\n",
    "Life_e.dtypes"
   ]
  },
  {
   "cell_type": "code",
   "execution_count": 19,
   "metadata": {},
   "outputs": [
    {
     "name": "stdout",
     "output_type": "stream",
     "text": [
      "  Country  Year  Life_expectancy           GDP           GDP_f\n",
      "0   Chile  2000             77.3  7.786093e+10  77.861 Billion\n",
      "1   Chile  2001             77.3  7.097992e+10  70.980 Billion\n",
      "2   Chile  2002             77.8  6.973681e+10  69.737 Billion\n",
      "3   Chile  2003             77.9  7.564346e+10  75.643 Billion\n",
      "4   Chile  2004             78.0  9.921039e+10  99.210 Billion\n"
     ]
    }
   ],
   "source": [
    "# To understand the GDP, another column will be added to display the price (string datatype)\n",
    "\n",
    "Life_e[\"GDP_f\"] = Life_e.GDP.apply(lambda x: f\"{x/1e9:.3f} Billion\")  # 1e9 = 1 x (10 to the power of 9) \n",
    "print(Life_e.head())"
   ]
  },
  {
   "cell_type": "code",
   "execution_count": null,
   "metadata": {},
   "outputs": [],
   "source": []
  }
 ],
 "metadata": {
  "kernelspec": {
   "display_name": "Python 3 (ipykernel)",
   "language": "python",
   "name": "python3"
  },
  "language_info": {
   "codemirror_mode": {
    "name": "ipython",
    "version": 3
   },
   "file_extension": ".py",
   "mimetype": "text/x-python",
   "name": "python",
   "nbconvert_exporter": "python",
   "pygments_lexer": "ipython3",
   "version": "3.11.5"
  }
 },
 "nbformat": 4,
 "nbformat_minor": 4
}
