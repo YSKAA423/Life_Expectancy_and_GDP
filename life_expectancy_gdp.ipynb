{
 "cells": [
  {
   "cell_type": "markdown",
   "metadata": {},
   "source": [
    "\n",
    "Hello and welcome to this porfolio project (Life Expectancy and GDP)\n",
    "\n",
    "This project is part of the Data Science: Machine Learning specialist career path  provided by Codecademy\n",
    "\n",
    "I would like to thank anyone who dedicated time to review this project \n",
    "\n",
    "-----------------------------------------------------------------------------------------------------------------\n"
   ]
  },
  {
   "cell_type": "markdown",
   "metadata": {},
   "source": [
    "The premise of the project is to explore the relationship between Life expectancy and GDP.\n",
    "\n",
    "            Life expectancy being the average number of years a person is expected to live typically \"calculated\" at birth\n",
    "            \n",
    "            GDP short for the Gross Domestic Product being the total market value of all final goods and services produced                                     within a country's borders in a given year. (A measure for the economy)\n",
    "            \n",
    "            Note: GPD in this case is in US dollars\n",
    "            \n",
    "The dataset contains 16 measured values for life expectancy and GDP for 16 years ranging from 2000 untill 2015.\n",
    "\n",
    "The data are provided for six countries : Chile, China, Germany, Mexico, The United States, Zimbabwe .\n",
    "\n",
    "\n",
    "-----------------------------"
   ]
  },
  {
   "cell_type": "markdown",
   "metadata": {},
   "source": [
    "I would like to tackle three main goals and hopefully provided an asnwer for them.\n",
    "\n",
    "        1. What is the relationship between Life expectancy and GDP ?\n",
    "        2. How did Life expectancy and GDP progress over time ?\n",
    "        3. How does the Average life expectancy differ across the countries ?\n",
    "        \n",
    "-----------------------"
   ]
  },
  {
   "cell_type": "code",
   "execution_count": 1,
   "metadata": {},
   "outputs": [],
   "source": [
    "# Import relevant libraries\n",
    "\n",
    "import pandas as pd\n",
    "import numpy as np\n",
    "import matplotlib.pyplot as plt\n",
    "import seaborn as sns\n",
    "import scipy"
   ]
  },
  {
   "cell_type": "code",
   "execution_count": 2,
   "metadata": {},
   "outputs": [],
   "source": [
    "# Load the dataset into a dataframe \n",
    "\n",
    "Life_e =  pd.read_csv('all_data.csv')"
   ]
  },
  {
   "cell_type": "code",
   "execution_count": 3,
   "metadata": {},
   "outputs": [
    {
     "name": "stdout",
     "output_type": "stream",
     "text": [
      "  Country  Year  Life expectancy at birth (years)           GDP\n",
      "0   Chile  2000                              77.3  7.786093e+10\n",
      "1   Chile  2001                              77.3  7.097992e+10\n",
      "2   Chile  2002                              77.8  6.973681e+10\n",
      "3   Chile  2003                              77.9  7.564346e+10\n",
      "4   Chile  2004                              78.0  9.921039e+10\n"
     ]
    }
   ],
   "source": [
    "# Inspect some rows\n",
    "\n",
    "print(Life_e.head())"
   ]
  },
  {
   "cell_type": "code",
   "execution_count": 4,
   "metadata": {},
   "outputs": [],
   "source": [
    "# Adjusting life expectancy column name\n",
    "\n",
    "Life_e.rename(columns = {'Life expectancy at birth (years)':'Life_expectancy'},inplace = True)"
   ]
  },
  {
   "cell_type": "code",
   "execution_count": 5,
   "metadata": {},
   "outputs": [
    {
     "data": {
      "text/plain": [
       "Country             object\n",
       "Year                 int64\n",
       "Life_expectancy    float64\n",
       "GDP                float64\n",
       "dtype: object"
      ]
     },
     "execution_count": 5,
     "metadata": {},
     "output_type": "execute_result"
    }
   ],
   "source": [
    "# Making sure that the data types are in line with what is expected \n",
    "\n",
    "Life_e.dtypes"
   ]
  },
  {
   "cell_type": "code",
   "execution_count": 6,
   "metadata": {},
   "outputs": [
    {
     "data": {
      "text/plain": [
       "Country            string[python]\n",
       "Year                        int64\n",
       "Life_expectancy           float64\n",
       "GDP                       float64\n",
       "dtype: object"
      ]
     },
     "execution_count": 6,
     "metadata": {},
     "output_type": "execute_result"
    }
   ],
   "source": [
    "# Converting Country into string data type\n",
    "\n",
    "Life_e.Country = Life_e.Country.astype('string')\n",
    "Life_e.dtypes"
   ]
  },
  {
   "cell_type": "code",
   "execution_count": 7,
   "metadata": {},
   "outputs": [
    {
     "name": "stdout",
     "output_type": "stream",
     "text": [
      "  Country  Year  Life_expectancy           GDP           GDP_f\n",
      "0   Chile  2000             77.3  7.786093e+10  77.861 Billion\n",
      "1   Chile  2001             77.3  7.097992e+10  70.980 Billion\n",
      "2   Chile  2002             77.8  6.973681e+10  69.737 Billion\n",
      "3   Chile  2003             77.9  7.564346e+10  75.643 Billion\n",
      "4   Chile  2004             78.0  9.921039e+10  99.210 Billion\n"
     ]
    }
   ],
   "source": [
    "# To understand the GDP, another column will be added to display the price (string datatype)\n",
    "\n",
    "Life_e[\"GDP_f\"] = Life_e.GDP.apply(lambda x: f\"{x/1e9:.3f} Billion\")  # 1e9 = 1 x (10 to the power of 9) \n",
    "print(Life_e.head())"
   ]
  },
  {
   "cell_type": "code",
   "execution_count": 8,
   "metadata": {},
   "outputs": [
    {
     "data": {
      "text/plain": [
       "Country            False\n",
       "Year               False\n",
       "Life_expectancy    False\n",
       "GDP                False\n",
       "GDP_f              False\n",
       "dtype: bool"
      ]
     },
     "execution_count": 8,
     "metadata": {},
     "output_type": "execute_result"
    }
   ],
   "source": [
    "Life_e.isna().any() # Seems like there are no missing values"
   ]
  },
  {
   "cell_type": "code",
   "execution_count": 12,
   "metadata": {},
   "outputs": [
    {
     "data": {
      "text/html": [
       "<div>\n",
       "<style scoped>\n",
       "    .dataframe tbody tr th:only-of-type {\n",
       "        vertical-align: middle;\n",
       "    }\n",
       "\n",
       "    .dataframe tbody tr th {\n",
       "        vertical-align: top;\n",
       "    }\n",
       "\n",
       "    .dataframe thead th {\n",
       "        text-align: right;\n",
       "    }\n",
       "</style>\n",
       "<table border=\"1\" class=\"dataframe\">\n",
       "  <thead>\n",
       "    <tr style=\"text-align: right;\">\n",
       "      <th></th>\n",
       "      <th>Year</th>\n",
       "      <th>Life_expectancy</th>\n",
       "      <th>GDP</th>\n",
       "    </tr>\n",
       "  </thead>\n",
       "  <tbody>\n",
       "    <tr>\n",
       "      <th>count</th>\n",
       "      <td>96.000000</td>\n",
       "      <td>96.000000</td>\n",
       "      <td>9.600000e+01</td>\n",
       "    </tr>\n",
       "    <tr>\n",
       "      <th>mean</th>\n",
       "      <td>2007.500000</td>\n",
       "      <td>72.789583</td>\n",
       "      <td>3.880499e+12</td>\n",
       "    </tr>\n",
       "    <tr>\n",
       "      <th>std</th>\n",
       "      <td>4.633971</td>\n",
       "      <td>10.672882</td>\n",
       "      <td>5.197561e+12</td>\n",
       "    </tr>\n",
       "    <tr>\n",
       "      <th>min</th>\n",
       "      <td>2000.000000</td>\n",
       "      <td>44.300000</td>\n",
       "      <td>4.415703e+09</td>\n",
       "    </tr>\n",
       "    <tr>\n",
       "      <th>25%</th>\n",
       "      <td>2003.750000</td>\n",
       "      <td>74.475000</td>\n",
       "      <td>1.733018e+11</td>\n",
       "    </tr>\n",
       "    <tr>\n",
       "      <th>50%</th>\n",
       "      <td>2007.500000</td>\n",
       "      <td>76.750000</td>\n",
       "      <td>1.280220e+12</td>\n",
       "    </tr>\n",
       "    <tr>\n",
       "      <th>75%</th>\n",
       "      <td>2011.250000</td>\n",
       "      <td>78.900000</td>\n",
       "      <td>4.067510e+12</td>\n",
       "    </tr>\n",
       "    <tr>\n",
       "      <th>max</th>\n",
       "      <td>2015.000000</td>\n",
       "      <td>81.000000</td>\n",
       "      <td>1.810000e+13</td>\n",
       "    </tr>\n",
       "  </tbody>\n",
       "</table>\n",
       "</div>"
      ],
      "text/plain": [
       "              Year  Life_expectancy           GDP\n",
       "count    96.000000        96.000000  9.600000e+01\n",
       "mean   2007.500000        72.789583  3.880499e+12\n",
       "std       4.633971        10.672882  5.197561e+12\n",
       "min    2000.000000        44.300000  4.415703e+09\n",
       "25%    2003.750000        74.475000  1.733018e+11\n",
       "50%    2007.500000        76.750000  1.280220e+12\n",
       "75%    2011.250000        78.900000  4.067510e+12\n",
       "max    2015.000000        81.000000  1.810000e+13"
      ]
     },
     "execution_count": 12,
     "metadata": {},
     "output_type": "execute_result"
    }
   ],
   "source": [
    "# Before addressing the relationship between GDP and Life expectancy lets review some summary statistics\n",
    "Life_e.describe()"
   ]
  },
  {
   "cell_type": "code",
   "execution_count": 16,
   "metadata": {},
   "outputs": [
    {
     "data": {
      "text/html": [
       "<div>\n",
       "<style scoped>\n",
       "    .dataframe tbody tr th:only-of-type {\n",
       "        vertical-align: middle;\n",
       "    }\n",
       "\n",
       "    .dataframe tbody tr th {\n",
       "        vertical-align: top;\n",
       "    }\n",
       "\n",
       "    .dataframe thead th {\n",
       "        text-align: right;\n",
       "    }\n",
       "</style>\n",
       "<table border=\"1\" class=\"dataframe\">\n",
       "  <thead>\n",
       "    <tr style=\"text-align: right;\">\n",
       "      <th></th>\n",
       "      <th>Country</th>\n",
       "      <th>Year</th>\n",
       "      <th>Life_expectancy</th>\n",
       "      <th>GDP</th>\n",
       "      <th>GDP_f</th>\n",
       "    </tr>\n",
       "  </thead>\n",
       "  <tbody>\n",
       "    <tr>\n",
       "      <th>88</th>\n",
       "      <td>Zimbabwe</td>\n",
       "      <td>2008</td>\n",
       "      <td>48.2</td>\n",
       "      <td>4.415703e+09</td>\n",
       "      <td>4.416 Billion</td>\n",
       "    </tr>\n",
       "  </tbody>\n",
       "</table>\n",
       "</div>"
      ],
      "text/plain": [
       "     Country  Year  Life_expectancy           GDP          GDP_f\n",
       "88  Zimbabwe  2008             48.2  4.415703e+09  4.416 Billion"
      ]
     },
     "execution_count": 16,
     "metadata": {},
     "output_type": "execute_result"
    }
   ],
   "source": [
    "# Min and Max GDP values \n",
    "minimum = Life_e.GDP.min()\n",
    "maximum = Life_e.GDP.max()\n",
    "\n",
    "Life_e[Life_e.GDP == minimum] # Relating other variabels to the minimum and the maximum GDP value\n"
   ]
  },
  {
   "cell_type": "code",
   "execution_count": 17,
   "metadata": {},
   "outputs": [
    {
     "data": {
      "text/html": [
       "<div>\n",
       "<style scoped>\n",
       "    .dataframe tbody tr th:only-of-type {\n",
       "        vertical-align: middle;\n",
       "    }\n",
       "\n",
       "    .dataframe tbody tr th {\n",
       "        vertical-align: top;\n",
       "    }\n",
       "\n",
       "    .dataframe thead th {\n",
       "        text-align: right;\n",
       "    }\n",
       "</style>\n",
       "<table border=\"1\" class=\"dataframe\">\n",
       "  <thead>\n",
       "    <tr style=\"text-align: right;\">\n",
       "      <th></th>\n",
       "      <th>Country</th>\n",
       "      <th>Year</th>\n",
       "      <th>Life_expectancy</th>\n",
       "      <th>GDP</th>\n",
       "      <th>GDP_f</th>\n",
       "    </tr>\n",
       "  </thead>\n",
       "  <tbody>\n",
       "    <tr>\n",
       "      <th>79</th>\n",
       "      <td>United States of America</td>\n",
       "      <td>2015</td>\n",
       "      <td>79.3</td>\n",
       "      <td>1.810000e+13</td>\n",
       "      <td>18100.000 Billion</td>\n",
       "    </tr>\n",
       "  </tbody>\n",
       "</table>\n",
       "</div>"
      ],
      "text/plain": [
       "                     Country  Year  Life_expectancy           GDP  \\\n",
       "79  United States of America  2015             79.3  1.810000e+13   \n",
       "\n",
       "                GDP_f  \n",
       "79  18100.000 Billion  "
      ]
     },
     "execution_count": 17,
     "metadata": {},
     "output_type": "execute_result"
    }
   ],
   "source": [
    "Life_e[Life_e.GDP == maximum]"
   ]
  },
  {
   "cell_type": "code",
   "execution_count": 20,
   "metadata": {},
   "outputs": [
    {
     "name": "stdout",
     "output_type": "stream",
     "text": [
      "min: 44.3 years , max: 81.0 years\n"
     ]
    }
   ],
   "source": [
    "# Min and Max Life Expectancy\n",
    "\n",
    "minimum = Life_e.Life_expectancy.min()\n",
    "maximum = Life_e.Life_expectancy.max()\n",
    "\n",
    "print(f\"min: {minimum} years , max: {maximum} years\")\n"
   ]
  },
  {
   "cell_type": "code",
   "execution_count": 22,
   "metadata": {},
   "outputs": [],
   "source": [
    "# Understanding both the mean value and the variation in GDP values and Life expectancy \n",
    "mean_gdp = Life_e.GDP.mean()\n",
    "mean_life_e = Life_e.Life_expectancy.mean()\n",
    "\n",
    "\n",
    "st_dev_gdp = Life_e.GDP.std()\n",
    "st_dev_life_e = Life_e.Life_expectancy.std()\n",
    "\n"
   ]
  },
  {
   "cell_type": "code",
   "execution_count": 25,
   "metadata": {},
   "outputs": [
    {
     "name": "stdout",
     "output_type": "stream",
     "text": [
      "Typical GDP value (mean): 3880498570768.396$\n",
      "Typical life expectancy (mean): 72.78958333333334 years\n"
     ]
    }
   ],
   "source": [
    "print(f\"Typical GDP value (mean): {mean_gdp}$\")\n",
    "print(f\"Typical life expectancy (mean): {mean_life_e} years\")"
   ]
  },
  {
   "cell_type": "code",
   "execution_count": 27,
   "metadata": {},
   "outputs": [
    {
     "name": "stdout",
     "output_type": "stream",
     "text": [
      "The standard variation of GDP : 5197561310975.917$\n",
      "The standard variation of Life expectancy : 10.6728823036079 years\n"
     ]
    }
   ],
   "source": [
    "print(f\"The standard variation of GDP : {st_dev_gdp}$\")\n",
    "print(f\"The standard variation of Life expectancy : {st_dev_life_e} years\") # The higher the value the more varying the data is, \n",
    "                                                                      # meaning that they are farthur away from the center(mean) \n"
   ]
  },
  {
   "cell_type": "code",
   "execution_count": null,
   "metadata": {},
   "outputs": [],
   "source": []
  }
 ],
 "metadata": {
  "kernelspec": {
   "display_name": "Python 3 (ipykernel)",
   "language": "python",
   "name": "python3"
  },
  "language_info": {
   "codemirror_mode": {
    "name": "ipython",
    "version": 3
   },
   "file_extension": ".py",
   "mimetype": "text/x-python",
   "name": "python",
   "nbconvert_exporter": "python",
   "pygments_lexer": "ipython3",
   "version": "3.11.5"
  }
 },
 "nbformat": 4,
 "nbformat_minor": 4
}
